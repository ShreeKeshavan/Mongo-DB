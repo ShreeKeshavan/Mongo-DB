{
  "nbformat": 4,
  "nbformat_minor": 0,
  "metadata": {
    "colab": {
      "provenance": [],
      "authorship_tag": "ABX9TyOrvc63HzKI4iU+ChENoj9h",
      "include_colab_link": true
    },
    "kernelspec": {
      "name": "python3",
      "display_name": "Python 3"
    },
    "language_info": {
      "name": "python"
    }
  },
  "cells": [
    {
      "cell_type": "markdown",
      "metadata": {
        "id": "view-in-github",
        "colab_type": "text"
      },
      "source": [
        "<a href=\"https://colab.research.google.com/github/ShreeKeshavan/Mongo-DB/blob/main/Telephone_Directory_Task.ipynb\" target=\"_parent\"><img src=\"https://colab.research.google.com/assets/colab-badge.svg\" alt=\"Open In Colab\"/></a>"
      ]
    },
    {
      "cell_type": "markdown",
      "source": [
        "***Telephone Directory CRUD Operation***"
      ],
      "metadata": {
        "id": "UDwbNlUwhTo2"
      }
    },
    {
      "cell_type": "markdown",
      "source": [
        "***To install pymongo on collab***"
      ],
      "metadata": {
        "id": "uZ7Yk0lDiGPH"
      }
    },
    {
      "cell_type": "code",
      "source": [
        "!pip install pymongo "
      ],
      "metadata": {
        "colab": {
          "base_uri": "https://localhost:8080/"
        },
        "id": "6x-2xfRwhbZc",
        "outputId": "828cd18e-9344-412f-ada3-f9392726c2f9"
      },
      "execution_count": 1,
      "outputs": [
        {
          "output_type": "stream",
          "name": "stdout",
          "text": [
            "Looking in indexes: https://pypi.org/simple, https://us-python.pkg.dev/colab-wheels/public/simple/\n",
            "Requirement already satisfied: pymongo in /usr/local/lib/python3.8/dist-packages (4.3.3)\n",
            "Requirement already satisfied: dnspython<3.0.0,>=1.16.0 in /usr/local/lib/python3.8/dist-packages (from pymongo) (2.2.1)\n"
          ]
        }
      ]
    },
    {
      "cell_type": "markdown",
      "source": [
        "**1.To Import necessary modules.**"
      ],
      "metadata": {
        "id": "Ij_7FcWohnav"
      }
    },
    {
      "cell_type": "code",
      "source": [
        "import pymongo\n",
        "from pymongo import MongoClient"
      ],
      "metadata": {
        "id": "g4AJtY4hhwzH"
      },
      "execution_count": 2,
      "outputs": []
    },
    {
      "cell_type": "code",
      "source": [
        "record = MongoClient('mongodb+srv://Shree_Keshavan:<password>@cluster0.xibhtf4.mongodb.net/?retryWrites=true&w=\"majority\"')\n",
        "db = record.test"
      ],
      "metadata": {
        "id": "KnLZV5REpJzO"
      },
      "execution_count": 14,
      "outputs": []
    },
    {
      "cell_type": "markdown",
      "source": [
        "**2. To Create Database with name *db*.**"
      ],
      "metadata": {
        "id": "P8u1s9l2h1ht"
      }
    },
    {
      "cell_type": "code",
      "source": [
        "db = record['TELEPHONE_DIRECTORY']"
      ],
      "metadata": {
        "id": "_O3WiRbMiUNx"
      },
      "execution_count": 15,
      "outputs": []
    },
    {
      "cell_type": "markdown",
      "source": [
        "**3. Creating a collection.**"
      ],
      "metadata": {
        "id": "RhnkS4x4t4Ad"
      }
    },
    {
      "cell_type": "code",
      "source": [
        "record = db['directory']"
      ],
      "metadata": {
        "id": "AaV8KbNFulxy"
      },
      "execution_count": 16,
      "outputs": []
    },
    {
      "cell_type": "markdown",
      "source": [
        "**4. Insert the record into the collection.**"
      ],
      "metadata": {
        "id": "jsoXUpRTuqCt"
      }
    },
    {
      "cell_type": "code",
      "source": [
        "record.insert_many([{\"Name\":\"Kishor\",\"Age\":23,\"Phone_number\":9632154678,\"Address\":\"Banglore\",\"State\":\"Karnataka\"},{\"Name\":\"Sharan\",\"Age\":26,\"Phone_number\":9632123478,\"Address\":\"Banglore\"},{\"Name\":\"Kavya\",\"Age\":27,\"Phone_number\":7812452634,\"Address\":\"Chennia\"},{\"Name\":\"Sindhu\",\"Age\":26,\"Phone_number\":7845128956,\"Address\":\"Patna\"},{\"Name\":\"Samarth\",\"Age\":31,\"Phone_number\":7722772277,\"Address\":\"Hubli\"},{\"Name\":\"Vidya\",\"Age\":24,\"Phone_number\":9756123789,\"Address\":\"Banglore\"},{\"Name\":\"Kishor\",\"Age\":28,\"Phone_number\":9632154678,\"Address\":\"Banglore\"}])"
      ],
      "metadata": {
        "id": "keoY8K0dwgMx"
      },
      "execution_count": null,
      "outputs": []
    },
    {
      "cell_type": "markdown",
      "source": [
        "**5. Make a query to find the records you just created.**"
      ],
      "metadata": {
        "id": "6FW4nAyevTDi"
      }
    },
    {
      "cell_type": "code",
      "source": [
        "a=record.find()\n",
        "for i in a:\n",
        "  print(i)"
      ],
      "metadata": {
        "id": "bxT1MeKRwskR"
      },
      "execution_count": 21,
      "outputs": []
    },
    {
      "cell_type": "markdown",
      "source": [
        "**6. Modify the records, use the update_one() method.**"
      ],
      "metadata": {
        "id": "mZwpnLPlw1zV"
      }
    },
    {
      "cell_type": "code",
      "source": [
        "b=record.update_one({\"Name\":'keshavan'},{'$set':{'Age':'33'}})"
      ],
      "metadata": {
        "id": "_o-CxBRBw55i"
      },
      "execution_count": null,
      "outputs": []
    },
    {
      "cell_type": "markdown",
      "source": [
        "**7.The update_one() method requires two arguments, query and update.**"
      ],
      "metadata": {
        "id": "Iuvt6VM6xUmm"
      }
    },
    {
      "cell_type": "code",
      "source": [
        "c = record.update_one({\"Name\":\"Kishor\"},{\"$unset\":{\"State\":\"Karnataka\"}})"
      ],
      "metadata": {
        "id": "Fx_9_r6Axaka"
      },
      "execution_count": null,
      "outputs": []
    },
    {
      "cell_type": "markdown",
      "source": [
        "**8.Delete the record, use delete_one() method**"
      ],
      "metadata": {
        "id": "z_hDOKlvxlu8"
      }
    },
    {
      "cell_type": "code",
      "source": [
        "d=record.delete_one({\"Name\":\"Kishor\"})"
      ],
      "metadata": {
        "id": "aWPkL9-Lxn9T"
      },
      "execution_count": null,
      "outputs": []
    }
  ]
}